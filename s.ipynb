{
 "cells": [
  {
   "cell_type": "code",
   "execution_count": null,
   "id": "3a371f9b",
   "metadata": {
    "vscode": {
     "languageId": "plaintext"
    }
   },
   "outputs": [],
   "source": [
    "import edge_tts\n",
    "import asyncio\n",
    "\n",
    "async def generate_polish_audio(text, output_file):\n",
    "    tts = edge_tts.Communicate(text=text, voice=\"pl-PL-MarekNeural\")\n",
    "    await tts.save(output_file)\n",
    "\n",
    "# Example usage\n",
    "text = \"Witaj, świecie! To jest test generowania mowy po polsku.\"\n",
    "output_file = \"polish_audio.mp3\"\n",
    "\n",
    "# Run the async function\n",
    "asyncio.run(generate_polish_audio(text, output_file))\n"
   ]
  },
  {
   "cell_type": "code",
   "execution_count": null,
   "id": "b06d90f4",
   "metadata": {
    "vscode": {
     "languageId": "plaintext"
    }
   },
   "outputs": [],
   "source": []
  }
 ],
 "metadata": {
  "language_info": {
   "name": "python"
  }
 },
 "nbformat": 4,
 "nbformat_minor": 5
}
